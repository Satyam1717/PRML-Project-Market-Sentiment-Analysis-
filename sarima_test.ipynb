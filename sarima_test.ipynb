{
 "cells": [
  {
   "cell_type": "code",
   "execution_count": null,
   "id": "b47cb304",
   "metadata": {
    "vscode": {
     "languageId": "plaintext"
    }
   },
   "outputs": [],
   "source": [
    "import pandas as pd\n",
    "\n",
    "# Load the dataset\n",
    "data = pd.read_csv('reliance_stock_data.csv', parse_dates=['Date'], index_col='Date')\n",
    "\n",
    "# Display the first few rows\n",
    "print(data.head())"
   ]
  },
  {
   "cell_type": "code",
   "execution_count": null,
   "id": "107493c7",
   "metadata": {
    "vscode": {
     "languageId": "plaintext"
    }
   },
   "outputs": [],
   "source": [
    "# Sort the dataset by Date in ascending order\n",
    "data = data.sort_index()\n",
    "\n",
    "# Verify that the index is sorted\n",
    "print(data.index.is_monotonic_increasing)  # Should return True"
   ]
  },
  {
   "cell_type": "code",
   "execution_count": null,
   "id": "e5f89f58",
   "metadata": {
    "vscode": {
     "languageId": "plaintext"
    }
   },
   "outputs": [],
   "source": [
    "# Split data into training and testing sets based on date\n",
    "train = data.loc[:]\n",
    "# test = data.loc['2025-01-01':]\n",
    "\n",
    "# Display training and testing sets\n",
    "print(\"Training Set:\")\n",
    "print(train.head())\n",
    "# print(\"\\nTesting Set:\")\n",
    "# print(test.head())"
   ]
  },
  {
   "cell_type": "code",
   "execution_count": null,
   "id": "eed3bed2",
   "metadata": {
    "vscode": {
     "languageId": "plaintext"
    }
   },
   "outputs": [],
   "source": [
    "pip install --upgrade pandas"
   ]
  },
  {
   "cell_type": "code",
   "execution_count": null,
   "id": "14727338",
   "metadata": {
    "vscode": {
     "languageId": "plaintext"
    }
   },
   "outputs": [],
   "source": [
    "import pandas as pd\n",
    "import numpy as np\n",
    "# !pip install statsmodels\n",
    "import statsmodels.api as sm\n",
    "from statsmodels.tsa.statespace.sarimax import SARIMAX\n",
    "\n",
    "# Load stock price data\n",
    "stock_data = pd.read_csv('reliance_stock_data.csv')\n",
    "stock_data['Date'] = pd.to_datetime(stock_data['Date'], format='%Y-%m-%d')\n",
    "stock_data.set_index('Date', inplace=True)\n",
    "stock_data.sort_index(inplace=True)\n",
    "\n",
    "# Load sentiment data with error handling\n",
    "# Try reading while skipping malformed lines\n",
    "try:\n",
    "    sentiment_data = pd.read_csv('new_articles_with_ewma.csv', on_bad_lines='skip')\n",
    "except pd.errors.ParserError:\n",
    "    sentiment_data = pd.read_csv('new_articles_with_ewma.csv', error_bad_lines=False)\n",
    "\n",
    "\n",
    "\n",
    "# Convert date column to datetime\n",
    "sentiment_data['date'] = pd.to_datetime(sentiment_data['date'])\n",
    "\n",
    "# SOLUTION FOR ISSUE #1:\n",
    "# Group by date and take the last EWMA-3 value for each date\n",
    "ewma_data = sentiment_data.groupby('date')['ewma_3'].last().reset_index()\n",
    "ewma_data.rename(columns={'date': 'Date'}, inplace=True)\n",
    "ewma_data.set_index('Date', inplace=True)\n",
    "ewma_data.sort_index(inplace=True)\n",
    "\n",
    "# SOLUTION FOR ISSUE #2:\n",
    "# Join with stock data and forward fill missing values\n",
    "merged_data = stock_data.join(ewma_data, how='left')\n",
    "\n",
    "# Forward fill missing EWMA values (uses last available EWMA)\n",
    "merged_data['ewma_3'].fillna(method='ffill', inplace=True)\n",
    "# For any missing values at the beginning, backward fill\n",
    "merged_data['ewma_3'].fillna(method='bfill', inplace=True)\n",
    "\n",
    "# Print the first few rows to verify the data\n",
    "print(\"First few rows of merged data:\")\n",
    "print(merged_data.head())"
   ]
  }
 ],
 "metadata": {
  "language_info": {
   "name": "python"
  }
 },
 "nbformat": 4,
 "nbformat_minor": 5
}
