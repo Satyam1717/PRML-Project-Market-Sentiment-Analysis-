{
  "cells": [
    {
      "cell_type": "code",
      "execution_count": null,
      "metadata": {
        "colab": {
          "base_uri": "https://localhost:8080/"
        },
        "id": "Rx_-sLoFiBgG",
        "outputId": "e1b37a8d-4c41-420b-dd26-0111ebd0a484"
      },
      "outputs": [
        {
          "name": "stdout",
          "output_type": "stream",
          "text": [
            "               Open    High      Low    Close  Adj_Close     Volume\n",
            "Date                                                               \n",
            "2025-04-07  1125.00  1171.0  1115.55  1166.20    1166.20  1433461.0\n",
            "2025-04-04  1240.00  1245.2  1192.85  1204.70    1204.70   785059.0\n",
            "2025-04-03  1238.95  1251.2  1234.55  1248.60    1248.60   532522.0\n",
            "2025-04-02  1250.35  1256.0  1243.80  1251.10    1251.10   243303.0\n",
            "2025-04-01  1274.60  1277.8  1250.00  1252.45    1252.45   722008.0\n"
          ]
        }
      ],
      "source": [
        "import pandas as pd\n",
        "\n",
        "# Load the dataset\n",
        "data = pd.read_csv('reliance_stock_data.csv', parse_dates=['Date'], index_col='Date')\n",
        "\n",
        "# Display the first few rows\n",
        "print(data.head())"
      ]
    },
    {
      "cell_type": "code",
      "execution_count": null,
      "metadata": {
        "colab": {
          "base_uri": "https://localhost:8080/"
        },
        "id": "JA4Ke5tfiFWp",
        "outputId": "4076514c-37c7-489a-d9c0-aeb663269f1b"
      },
      "outputs": [
        {
          "name": "stdout",
          "output_type": "stream",
          "text": [
            "True\n"
          ]
        }
      ],
      "source": [
        "# Sort the dataset by Date in ascending order\n",
        "data = data.sort_index()\n",
        "\n",
        "# Verify that the index is sorted\n",
        "print(data.index.is_monotonic_increasing)  # Should return True"
      ]
    },
    {
      "cell_type": "code",
      "execution_count": null,
      "metadata": {
        "colab": {
          "base_uri": "https://localhost:8080/"
        },
        "id": "fwB4Z7-IiyMv",
        "outputId": "9f152fb1-c51b-4130-93be-a652157affc7"
      },
      "outputs": [
        {
          "name": "stdout",
          "output_type": "stream",
          "text": [
            "Training Set:\n",
            "               Open     High      Low    Close  Adj_Close    Volume\n",
            "Date                                                               \n",
            "2023-01-09  1271.85  1300.90  1269.55  1298.28    1280.41  596984.0\n",
            "2023-01-10  1302.03  1302.50  1273.03  1278.97    1261.38  305284.0\n",
            "2023-01-11  1277.60  1279.10  1261.00  1262.75    1245.38  255590.0\n",
            "2023-01-12  1262.50  1265.95  1232.82  1236.05    1219.04  370686.0\n",
            "2023-01-13  1234.30  1236.60  1217.40  1233.68    1216.70  497964.0\n"
          ]
        }
      ],
      "source": [
        "# Split data into training and testing sets based on date\n",
        "train = data.loc[:]\n",
        "# test = data.loc['2025-01-01':]\n",
        "\n",
        "# Display training and testing sets\n",
        "print(\"Training Set:\")\n",
        "print(train.head())\n",
        "# print(\"\\nTesting Set:\")\n",
        "# print(test.head())"
      ]
    },
    {
      "cell_type": "code",
      "execution_count": null,
      "metadata": {
        "colab": {
          "base_uri": "https://localhost:8080/"
        },
        "id": "18KFluC-uIyD",
        "outputId": "cd79e3f5-174a-4901-ae28-fd0af10196f1"
      },
      "outputs": [
        {
          "name": "stdout",
          "output_type": "stream",
          "text": [
            "Line 984: New Delhi\n",
            "\n",
            "Line 985: 10\n",
            "\n",
            "Line 986: Radhakishan Damani & family\n",
            "\n",
            "Line 987: 1.4\n",
            "\n",
            "Line 988: -11%\n",
            "\n"
          ]
        }
      ],
      "source": [
        "# Print the lines around the problematic area\n",
        "with open('new_articles_with_ewma.csv', 'r', encoding='utf-8', errors='replace') as f:\n",
        "    for i, line in enumerate(f, 1):\n",
        "        if 984 <= i <= 988:  # Print lines 984-988\n",
        "            print(f\"Line {i}: {line}\")"
      ]
    },
    {
      "cell_type": "code",
      "execution_count": null,
      "metadata": {
        "colab": {
          "base_uri": "https://localhost:8080/"
        },
        "id": "fGRh0IoGwcf1",
        "outputId": "7b1c99f4-8e61-4df7-9024-33ef83aeea50"
      },
      "outputs": [
        {
          "name": "stdout",
          "output_type": "stream",
          "text": [
            "Requirement already satisfied: pandas in /usr/local/lib/python3.11/dist-packages (2.2.2)\n",
            "Collecting pandas\n",
            "  Downloading pandas-2.2.3-cp311-cp311-manylinux_2_17_x86_64.manylinux2014_x86_64.whl.metadata (89 kB)\n",
            "\u001b[2K     \u001b[90m━━━━━━━━━━━━━━━━━━━━━━━━━━━━━━━━━━━━━━━━\u001b[0m \u001b[32m89.9/89.9 kB\u001b[0m \u001b[31m2.1 MB/s\u001b[0m eta \u001b[36m0:00:00\u001b[0m\n",
            "\u001b[?25hRequirement already satisfied: numpy>=1.23.2 in /usr/local/lib/python3.11/dist-packages (from pandas) (2.0.2)\n",
            "Requirement already satisfied: python-dateutil>=2.8.2 in /usr/local/lib/python3.11/dist-packages (from pandas) (2.8.2)\n",
            "Requirement already satisfied: pytz>=2020.1 in /usr/local/lib/python3.11/dist-packages (from pandas) (2025.2)\n",
            "Requirement already satisfied: tzdata>=2022.7 in /usr/local/lib/python3.11/dist-packages (from pandas) (2025.2)\n",
            "Requirement already satisfied: six>=1.5 in /usr/local/lib/python3.11/dist-packages (from python-dateutil>=2.8.2->pandas) (1.17.0)\n",
            "Downloading pandas-2.2.3-cp311-cp311-manylinux_2_17_x86_64.manylinux2014_x86_64.whl (13.1 MB)\n",
            "\u001b[2K   \u001b[90m━━━━━━━━━━━━━━━━━━━━━━━━━━━━━━━━━━━━━━━━\u001b[0m \u001b[32m13.1/13.1 MB\u001b[0m \u001b[31m117.5 MB/s\u001b[0m eta \u001b[36m0:00:00\u001b[0m\n",
            "\u001b[?25hInstalling collected packages: pandas\n",
            "  Attempting uninstall: pandas\n",
            "    Found existing installation: pandas 2.2.2\n",
            "    Uninstalling pandas-2.2.2:\n",
            "      Successfully uninstalled pandas-2.2.2\n",
            "\u001b[31mERROR: pip's dependency resolver does not currently take into account all the packages that are installed. This behaviour is the source of the following dependency conflicts.\n",
            "google-colab 1.0.0 requires pandas==2.2.2, but you have pandas 2.2.3 which is incompatible.\u001b[0m\u001b[31m\n",
            "\u001b[0mSuccessfully installed pandas-2.2.3\n"
          ]
        }
      ],
      "source": [
        "pip install --upgrade pandas"
      ]
    },
    {
      "cell_type": "code",
      "execution_count": null,
      "metadata": {
        "colab": {
          "base_uri": "https://localhost:8080/"
        },
        "id": "7VVrp6zdi0_0",
        "outputId": "21a32293-bbd3-488d-c9dd-728910c88360"
      },
      "outputs": [
        {
          "name": "stderr",
          "output_type": "stream",
          "text": [
            "<ipython-input-2-22d02d25f186>:23: UserWarning: Parsing dates in %d-%m-%Y format when dayfirst=False (the default) was specified. Pass `dayfirst=True` or specify a format to silence this warning.\n",
            "  sentiment_data['date'] = pd.to_datetime(sentiment_data['date'])\n",
            "<ipython-input-2-22d02d25f186>:37: FutureWarning: A value is trying to be set on a copy of a DataFrame or Series through chained assignment using an inplace method.\n",
            "The behavior will change in pandas 3.0. This inplace method will never work because the intermediate object on which we are setting values always behaves as a copy.\n",
            "\n",
            "For example, when doing 'df[col].method(value, inplace=True)', try using 'df.method({col: value}, inplace=True)' or df[col] = df[col].method(value) instead, to perform the operation inplace on the original object.\n",
            "\n",
            "\n",
            "  merged_data['ewma_3'].fillna(method='ffill', inplace=True)\n",
            "<ipython-input-2-22d02d25f186>:37: FutureWarning: Series.fillna with 'method' is deprecated and will raise in a future version. Use obj.ffill() or obj.bfill() instead.\n",
            "  merged_data['ewma_3'].fillna(method='ffill', inplace=True)\n",
            "<ipython-input-2-22d02d25f186>:39: FutureWarning: A value is trying to be set on a copy of a DataFrame or Series through chained assignment using an inplace method.\n",
            "The behavior will change in pandas 3.0. This inplace method will never work because the intermediate object on which we are setting values always behaves as a copy.\n",
            "\n",
            "For example, when doing 'df[col].method(value, inplace=True)', try using 'df.method({col: value}, inplace=True)' or df[col] = df[col].method(value) instead, to perform the operation inplace on the original object.\n",
            "\n",
            "\n",
            "  merged_data['ewma_3'].fillna(method='bfill', inplace=True)\n",
            "<ipython-input-2-22d02d25f186>:39: FutureWarning: Series.fillna with 'method' is deprecated and will raise in a future version. Use obj.ffill() or obj.bfill() instead.\n",
            "  merged_data['ewma_3'].fillna(method='bfill', inplace=True)\n",
            "/usr/local/lib/python3.11/dist-packages/statsmodels/tsa/base/tsa_model.py:473: ValueWarning: A date index has been provided, but it has no associated frequency information and so will be ignored when e.g. forecasting.\n",
            "  self._init_dates(dates, freq)\n",
            "/usr/local/lib/python3.11/dist-packages/statsmodels/tsa/base/tsa_model.py:473: ValueWarning: A date index has been provided, but it has no associated frequency information and so will be ignored when e.g. forecasting.\n",
            "  self._init_dates(dates, freq)\n"
          ]
        },
        {
          "name": "stdout",
          "output_type": "stream",
          "text": [
            "First few rows of merged data:\n",
            "               Open     High      Low    Close  Adj_Close    Volume    ewma_3\n",
            "Date                                                                         \n",
            "2023-01-09  1271.85  1300.90  1269.55  1298.28    1280.41  596984.0 -0.007061\n",
            "2023-01-10  1302.03  1302.50  1273.03  1278.97    1261.38  305284.0 -0.007061\n",
            "2023-01-11  1277.60  1279.10  1261.00  1262.75    1245.38  255590.0 -0.007061\n",
            "2023-01-12  1262.50  1265.95  1232.82  1236.05    1219.04  370686.0 -0.007061\n",
            "2023-01-13  1234.30  1236.60  1217.40  1233.68    1216.70  497964.0 -0.007061\n",
            "Training data shape: (552, 7)\n",
            "Fitting SARIMAX model...\n",
            "\n",
            "Model Summary:\n",
            "                                     SARIMAX Results                                      \n",
            "==========================================================================================\n",
            "Dep. Variable:                              Close   No. Observations:                  552\n",
            "Model:             SARIMAX(1, 1, 1)x(1, 1, 1, 12)   Log Likelihood               -2270.634\n",
            "Date:                            Tue, 08 Apr 2025   AIC                           4553.269\n",
            "Time:                                    19:04:06   BIC                           4578.849\n",
            "Sample:                                         0   HQIC                          4563.286\n",
            "                                            - 552                                         \n",
            "Covariance Type:                              opg                                         \n",
            "==============================================================================\n",
            "                 coef    std err          z      P>|z|      [0.025      0.975]\n",
            "------------------------------------------------------------------------------\n",
            "ewma_3        12.7126     13.592      0.935      0.350     -13.927      39.352\n",
            "ar.L1         -0.7891      0.253     -3.119      0.002      -1.285      -0.293\n",
            "ma.L1          0.7450      0.266      2.799      0.005       0.223       1.267\n",
            "ar.S.L12      -0.0030      0.041     -0.074      0.941      -0.082       0.076\n",
            "ma.S.L12      -0.9789      0.044    -22.012      0.000      -1.066      -0.892\n",
            "sigma2       321.8222     14.893     21.609      0.000     292.633     351.012\n",
            "===================================================================================\n",
            "Ljung-Box (L1) (Q):                   0.44   Jarque-Bera (JB):              1094.58\n",
            "Prob(Q):                              0.51   Prob(JB):                         0.00\n",
            "Heteroskedasticity (H):               1.25   Skew:                            -0.56\n",
            "Prob(H) (two-sided):                  0.15   Kurtosis:                         9.98\n",
            "===================================================================================\n",
            "\n",
            "Warnings:\n",
            "[1] Covariance matrix calculated using the outer product of gradients (complex-step).\n"
          ]
        }
      ],
      "source": [
        "import pandas as pd\n",
        "import numpy as np\n",
        "# !pip install statsmodels\n",
        "import statsmodels.api as sm\n",
        "from statsmodels.tsa.statespace.sarimax import SARIMAX\n",
        "\n",
        "# Load stock price data\n",
        "stock_data = pd.read_csv('reliance_stock_data.csv')\n",
        "stock_data['Date'] = pd.to_datetime(stock_data['Date'], format='%Y-%m-%d')\n",
        "stock_data.set_index('Date', inplace=True)\n",
        "stock_data.sort_index(inplace=True)\n",
        "\n",
        "# Load sentiment data with error handling\n",
        "# Try reading while skipping malformed lines\n",
        "try:\n",
        "    sentiment_data = pd.read_csv('new_articles_with_ewma.csv', on_bad_lines='skip')\n",
        "except pd.errors.ParserError:\n",
        "    sentiment_data = pd.read_csv('new_articles_with_ewma.csv', error_bad_lines=False)\n",
        "\n",
        "\n",
        "\n",
        "# Convert date column to datetime\n",
        "sentiment_data['date'] = pd.to_datetime(sentiment_data['date'])\n",
        "\n",
        "# SOLUTION FOR ISSUE #1:\n",
        "# Group by date and take the last EWMA-3 value for each date\n",
        "ewma_data = sentiment_data.groupby('date')['ewma_3'].last().reset_index()\n",
        "ewma_data.rename(columns={'date': 'Date'}, inplace=True)\n",
        "ewma_data.set_index('Date', inplace=True)\n",
        "ewma_data.sort_index(inplace=True)\n",
        "\n",
        "# SOLUTION FOR ISSUE #2:\n",
        "# Join with stock data and forward fill missing values\n",
        "merged_data = stock_data.join(ewma_data, how='left')\n",
        "\n",
        "# Forward fill missing EWMA values (uses last available EWMA)\n",
        "merged_data['ewma_3'].fillna(method='ffill', inplace=True)\n",
        "# For any missing values at the beginning, backward fill\n",
        "merged_data['ewma_3'].fillna(method='bfill', inplace=True)\n",
        "\n",
        "# Print the first few rows to verify the data\n",
        "print(\"First few rows of merged data:\")\n",
        "print(merged_data.head())"
      ]
    },
    {
      "cell_type": "code",
      "execution_count": null,
      "metadata": {
        "colab": {
          "base_uri": "https://localhost:8080/"
        },
        "id": "1sbonDsZ2Uzf",
        "outputId": "a2c1b34b-0369-4fa6-8067-d17e8f47202b"
      },
      "outputs": [
        {
          "name": "stdout",
          "output_type": "stream",
          "text": [
            "Loading existing models...\n",
            "Enter a future date for prediction (YYYY-MM-DD): 2025-04-08\n",
            "Predicting stock price for 2025-04-08...\n",
            "552   -0.005265\n",
            "dtype: float64\n",
            "              ewma_3\n",
            "2025-04-08 -0.005265\n",
            "552    1162.527281\n",
            "dtype: float64\n",
            "            Predicted_Close  Predicted_EWMA\n",
            "2025-04-08      1162.527281       -0.005265\n",
            "\n",
            "===== PREDICTION RESULTS =====\n",
            "Date: 2025-04-08\n",
            "Predicted Stock Price: ₹1162.53\n",
            "Predicted EWMA Sentiment: -0.0053\n",
            "=============================\n"
          ]
        },
        {
          "name": "stderr",
          "output_type": "stream",
          "text": [
            "/usr/local/lib/python3.11/dist-packages/statsmodels/tsa/base/tsa_model.py:837: ValueWarning: No supported index is available. Prediction results will be given with an integer index beginning at `start`.\n",
            "  return get_prediction_index(\n",
            "/usr/local/lib/python3.11/dist-packages/statsmodels/tsa/base/tsa_model.py:837: FutureWarning: No supported index is available. In the next version, calling this method in a model without a supported index will result in an exception.\n",
            "  return get_prediction_index(\n",
            "/usr/local/lib/python3.11/dist-packages/statsmodels/tsa/base/tsa_model.py:837: ValueWarning: No supported index is available. Prediction results will be given with an integer index beginning at `start`.\n",
            "  return get_prediction_index(\n",
            "/usr/local/lib/python3.11/dist-packages/statsmodels/tsa/base/tsa_model.py:837: FutureWarning: No supported index is available. In the next version, calling this method in a model without a supported index will result in an exception.\n",
            "  return get_prediction_index(\n"
          ]
        }
      ],
      "source": [
        "import pandas as pd\n",
        "import numpy as np\n",
        "import matplotlib.pyplot as plt\n",
        "from statsmodels.tsa.statespace.sarimax import SARIMAX\n",
        "from datetime import datetime, timedelta\n",
        "import pickle\n",
        "import os\n",
        "\n",
        "\n",
        "def get_models(force_refit=False):\n",
        "    # File paths for saved models\n",
        "    stock_model_path = 'trained_models/stock_model.pkl'\n",
        "    ewma_model_path = 'trained_models/ewma_model.pkl'\n",
        "\n",
        "    # Check if models already exist and we don't want to force refit\n",
        "    if not force_refit and os.path.exists(stock_model_path) and os.path.exists(ewma_model_path):\n",
        "        print(\"Loading existing models...\")\n",
        "        with open(stock_model_path, 'rb') as f:\n",
        "            full_model_fit = pickle.load(f)\n",
        "        with open(ewma_model_path, 'rb') as f:\n",
        "            ewma_model_fit = pickle.load(f)\n",
        "    else:\n",
        "      # 1. Retrain the model on the full dataset\n",
        "      full_data = merged_data  # All data from Jan 2023 to Mar 2025\n",
        "      full_exog = full_data[['ewma_3']]\n",
        "\n",
        "      # Fit the model on the full dataset for stock price prediction\n",
        "      print(\"Fitting SARIMAX model on full dataset for stock price forecasting...\")\n",
        "      full_model = SARIMAX(full_data['Close'],\n",
        "                          exog=full_exog,\n",
        "                          order=(p, d, q),\n",
        "                          seasonal_order=(P, D, Q, s),\n",
        "                          enforce_stationarity=False,\n",
        "                          enforce_invertibility=False)\n",
        "      full_model_fit = full_model.fit(disp=False)\n",
        "\n",
        "      # Train a separate SARIMA model for EWMA prediction\n",
        "      print(\"Fitting SARIMA model for EWMA forecasting...\")\n",
        "      ewma_model = SARIMAX(full_data['ewma_3'],\n",
        "                          order=(1, 1, 1),  # Adjust these parameters as needed\n",
        "                          seasonal_order=(1, 1, 1, 7),  # Using weekly seasonality for sentiment\n",
        "                          enforce_stationarity=False,\n",
        "                          enforce_invertibility=False)\n",
        "      ewma_model_fit = ewma_model.fit(disp=False)\n",
        "\n",
        "      # Save models\n",
        "      with open(stock_model_path, 'wb') as f:\n",
        "          pickle.dump(full_model_fit, f)\n",
        "      with open(ewma_model_path, 'wb') as f:\n",
        "          pickle.dump(ewma_model_fit, f)\n",
        "    return full_model_fit, ewma_model_fit\n",
        "\n",
        "\n",
        "# Function to get user input for prediction date\n",
        "def get_prediction_date():\n",
        "    while True:\n",
        "        try:\n",
        "            date_str = input(\"Enter a future date for prediction (YYYY-MM-DD): \")\n",
        "            pred_date = datetime.strptime(date_str, \"%Y-%m-%d\").date()\n",
        "\n",
        "            # Check if date is after the last date in our dataset\n",
        "            last_date = merged_data.index[-1].date()\n",
        "            if pred_date <= last_date:\n",
        "                print(f\"Please enter a date after {last_date}\")\n",
        "                continue\n",
        "\n",
        "            return pred_date\n",
        "        except ValueError:\n",
        "            print(\"Invalid date format. Please use YYYY-MM-DD format.\")\n",
        "\n",
        "# Function to predict stock price for a specified date\n",
        "def predict_stock_price(target_date,full_model_fit,ewma_model_fit):\n",
        "    # Convert to datetime object if it's not already\n",
        "    if isinstance(target_date, str):\n",
        "        target_date = datetime.strptime(target_date, \"%Y-%m-%d\")\n",
        "\n",
        "    # Calculate how many days ahead we need to predict\n",
        "    last_date = merged_data.index[-1].to_pydatetime()\n",
        "    days_ahead = (target_date - last_date.date()).days\n",
        "\n",
        "    if days_ahead <= 0:\n",
        "        print(\"Target date is not in the future.\")\n",
        "        return None\n",
        "\n",
        "    # Create date range from last data point to target date\n",
        "    future_dates = pd.date_range(start=last_date + pd.Timedelta(days=1),\n",
        "                               end=target_date, freq='D')\n",
        "\n",
        "    # Predict future EWMA values using the EWMA model\n",
        "    ewma_forecast = ewma_model_fit.get_forecast(steps=len(future_dates))\n",
        "    predicted_ewma = ewma_forecast.predicted_mean\n",
        "    print(predicted_ewma)\n",
        "\n",
        "    # Reindex predicted_ewma to match future_dates\n",
        "    predicted_ewma.index = future_dates\n",
        "\n",
        "    # Create DataFrame for future EWMA values\n",
        "    future_ewma = pd.DataFrame({'ewma_3': predicted_ewma}, index=future_dates)\n",
        "\n",
        "    print(future_ewma )\n",
        "    # Generate stock price predictions using the predicted EWMA values\n",
        "    future_predictions = full_model_fit.get_forecast(steps=len(future_dates), exog=future_ewma)\n",
        "    forecast_mean = future_predictions.predicted_mean\n",
        "\n",
        "    print(forecast_mean)\n",
        "\n",
        "    forecast_mean.index = future_dates\n",
        "\n",
        "    # Create a DataFrame with just the predictions we need\n",
        "    forecast_df = pd.DataFrame({\n",
        "        'Predicted_Close': forecast_mean,\n",
        "        'Predicted_EWMA': predicted_ewma\n",
        "    }, index=future_dates)\n",
        "\n",
        "    print(forecast_df)\n",
        "\n",
        "    return forecast_df\n",
        "\n",
        "# Main execution flow\n",
        "def main():\n",
        "    # Load or fit models (set force_refit=True to refit models)\n",
        "    full_model_fit, ewma_model_fit = get_models(force_refit=False)\n",
        "\n",
        "    # Get user input\n",
        "    target_date = get_prediction_date()\n",
        "\n",
        "    # Make prediction\n",
        "    print(f\"Predicting stock price for {target_date}...\")\n",
        "    forecast_df = predict_stock_price(target_date,full_model_fit, ewma_model_fit)\n",
        "\n",
        "    if forecast_df is not None:\n",
        "        # Print prediction for target date only\n",
        "        target_prediction = forecast_df.loc[target_date] if target_date in forecast_df.index else forecast_df.iloc[-1]\n",
        "\n",
        "        print(\"\\n===== PREDICTION RESULTS =====\")\n",
        "        print(f\"Date: {target_date}\")\n",
        "        print(f\"Predicted Stock Price: ₹{target_prediction['Predicted_Close']:.2f}\")\n",
        "        print(f\"Predicted EWMA Sentiment: {target_prediction['Predicted_EWMA']:.4f}\")\n",
        "        print(\"=============================\")\n",
        "\n",
        "# Run the program\n",
        "if __name__ == \"__main__\":\n",
        "    main()"
      ]
    },
    {
      "cell_type": "code",
      "execution_count": 5,
      "metadata": {
        "id": "7382hDOZ2W29"
      },
      "outputs": [],
      "source": []
    }
  ],
  "metadata": {
    "colab": {
      "provenance": []
    },
    "kernelspec": {
      "display_name": "Python 3",
      "name": "python3"
    },
    "language_info": {
      "name": "python"
    }
  },
  "nbformat": 4,
  "nbformat_minor": 0
}
