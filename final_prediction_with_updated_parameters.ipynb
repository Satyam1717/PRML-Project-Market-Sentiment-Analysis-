{
  "cells": [
    {
      "cell_type": "code",
      "execution_count": 1,
      "metadata": {
        "colab": {
          "base_uri": "https://localhost:8080/"
        },
        "id": "Rx_-sLoFiBgG",
        "outputId": "cbf1a09f-5cfa-43d1-c8f7-d8cca4ab2b25"
      },
      "outputs": [
        {
          "output_type": "stream",
          "name": "stdout",
          "text": [
            "               Open    High      Low    Close  Adj_Close     Volume\n",
            "Date                                                               \n",
            "2025-04-07  1125.00  1171.0  1115.55  1166.20    1166.20  1433461.0\n",
            "2025-04-04  1240.00  1245.2  1192.85  1204.70    1204.70   785059.0\n",
            "2025-04-03  1238.95  1251.2  1234.55  1248.60    1248.60   532522.0\n",
            "2025-04-02  1250.35  1256.0  1243.80  1251.10    1251.10   243303.0\n",
            "2025-04-01  1274.60  1277.8  1250.00  1252.45    1252.45   722008.0\n"
          ]
        }
      ],
      "source": [
        "import pandas as pd\n",
        "\n",
        "# Load the dataset\n",
        "data = pd.read_csv('reliance_stock_data.csv', parse_dates=['Date'], index_col='Date')\n",
        "\n",
        "# Display the first few rows\n",
        "print(data.head())"
      ]
    },
    {
      "cell_type": "code",
      "execution_count": 2,
      "metadata": {
        "colab": {
          "base_uri": "https://localhost:8080/"
        },
        "id": "JA4Ke5tfiFWp",
        "outputId": "a5b6ca2e-0209-4903-cf9b-12c0efdadd76"
      },
      "outputs": [
        {
          "output_type": "stream",
          "name": "stdout",
          "text": [
            "True\n"
          ]
        }
      ],
      "source": [
        "# Sort the dataset by Date in ascending order\n",
        "data = data.sort_index()\n",
        "\n",
        "# Verify that the index is sorted\n",
        "print(data.index.is_monotonic_increasing)  # Should return True"
      ]
    },
    {
      "cell_type": "code",
      "execution_count": 3,
      "metadata": {
        "colab": {
          "base_uri": "https://localhost:8080/"
        },
        "id": "fwB4Z7-IiyMv",
        "outputId": "5587502b-d11a-47d9-8577-9b4561dedecc"
      },
      "outputs": [
        {
          "output_type": "stream",
          "name": "stdout",
          "text": [
            "Training Set:\n",
            "               Open     High      Low    Close  Adj_Close    Volume\n",
            "Date                                                               \n",
            "2023-01-09  1271.85  1300.90  1269.55  1298.28    1280.41  596984.0\n",
            "2023-01-10  1302.03  1302.50  1273.03  1278.97    1261.38  305284.0\n",
            "2023-01-11  1277.60  1279.10  1261.00  1262.75    1245.38  255590.0\n",
            "2023-01-12  1262.50  1265.95  1232.82  1236.05    1219.04  370686.0\n",
            "2023-01-13  1234.30  1236.60  1217.40  1233.68    1216.70  497964.0\n"
          ]
        }
      ],
      "source": [
        "# Split data into training and testing sets based on date\n",
        "train = data.loc[:]\n",
        "# test = data.loc['2025-01-01':]\n",
        "\n",
        "# Display training and testing sets\n",
        "print(\"Training Set:\")\n",
        "print(train.head())\n",
        "# print(\"\\nTesting Set:\")\n",
        "# print(test.head())"
      ]
    },
    {
      "cell_type": "code",
      "execution_count": 4,
      "metadata": {
        "colab": {
          "base_uri": "https://localhost:8080/"
        },
        "id": "18KFluC-uIyD",
        "outputId": "89d4b5b3-ce72-4eee-e175-4153bb6e3d21"
      },
      "outputs": [
        {
          "output_type": "stream",
          "name": "stdout",
          "text": [
            "Line 984: 2.0\n",
            "\n",
            "Line 985: 28%\n",
            "\n",
            "Line 986: Aditya Birla\n",
            "\n",
            "Line 987: 57\n",
            "\n",
            "Line 988: Mumbai\n",
            "\n"
          ]
        }
      ],
      "source": [
        "# Print the lines around the problematic area\n",
        "with open('new_articles_with_ewma.csv', 'r', encoding='utf-8', errors='replace') as f:\n",
        "    for i, line in enumerate(f, 1):\n",
        "        if 984 <= i <= 988:  # Print lines 984-988\n",
        "            print(f\"Line {i}: {line}\")"
      ]
    },
    {
      "cell_type": "code",
      "execution_count": 5,
      "metadata": {
        "colab": {
          "base_uri": "https://localhost:8080/"
        },
        "id": "fGRh0IoGwcf1",
        "outputId": "c07ffe67-9a39-42f7-c929-a75a88cc68f1"
      },
      "outputs": [
        {
          "output_type": "stream",
          "name": "stdout",
          "text": [
            "Requirement already satisfied: pandas in /usr/local/lib/python3.11/dist-packages (2.2.2)\n",
            "Collecting pandas\n",
            "  Downloading pandas-2.2.3-cp311-cp311-manylinux_2_17_x86_64.manylinux2014_x86_64.whl.metadata (89 kB)\n",
            "\u001b[2K     \u001b[90m━━━━━━━━━━━━━━━━━━━━━━━━━━━━━━━━━━━━━━━━\u001b[0m \u001b[32m89.9/89.9 kB\u001b[0m \u001b[31m4.1 MB/s\u001b[0m eta \u001b[36m0:00:00\u001b[0m\n",
            "\u001b[?25hRequirement already satisfied: numpy>=1.23.2 in /usr/local/lib/python3.11/dist-packages (from pandas) (2.0.2)\n",
            "Requirement already satisfied: python-dateutil>=2.8.2 in /usr/local/lib/python3.11/dist-packages (from pandas) (2.8.2)\n",
            "Requirement already satisfied: pytz>=2020.1 in /usr/local/lib/python3.11/dist-packages (from pandas) (2025.2)\n",
            "Requirement already satisfied: tzdata>=2022.7 in /usr/local/lib/python3.11/dist-packages (from pandas) (2025.2)\n",
            "Requirement already satisfied: six>=1.5 in /usr/local/lib/python3.11/dist-packages (from python-dateutil>=2.8.2->pandas) (1.17.0)\n",
            "Downloading pandas-2.2.3-cp311-cp311-manylinux_2_17_x86_64.manylinux2014_x86_64.whl (13.1 MB)\n",
            "\u001b[2K   \u001b[90m━━━━━━━━━━━━━━━━━━━━━━━━━━━━━━━━━━━━━━━━\u001b[0m \u001b[32m13.1/13.1 MB\u001b[0m \u001b[31m97.3 MB/s\u001b[0m eta \u001b[36m0:00:00\u001b[0m\n",
            "\u001b[?25hInstalling collected packages: pandas\n",
            "  Attempting uninstall: pandas\n",
            "    Found existing installation: pandas 2.2.2\n",
            "    Uninstalling pandas-2.2.2:\n",
            "      Successfully uninstalled pandas-2.2.2\n",
            "\u001b[31mERROR: pip's dependency resolver does not currently take into account all the packages that are installed. This behaviour is the source of the following dependency conflicts.\n",
            "google-colab 1.0.0 requires pandas==2.2.2, but you have pandas 2.2.3 which is incompatible.\u001b[0m\u001b[31m\n",
            "\u001b[0mSuccessfully installed pandas-2.2.3\n"
          ]
        }
      ],
      "source": [
        "pip install --upgrade pandas"
      ]
    },
    {
      "cell_type": "code",
      "execution_count": 7,
      "metadata": {
        "colab": {
          "base_uri": "https://localhost:8080/"
        },
        "id": "7VVrp6zdi0_0",
        "outputId": "87676be3-dfb3-48d4-9859-409aa07ee69e"
      },
      "outputs": [
        {
          "output_type": "stream",
          "name": "stdout",
          "text": [
            "First few rows of merged data:\n",
            "               Open     High      Low    Close  Adj_Close    Volume    ewma_3\n",
            "Date                                                                         \n",
            "2023-01-09  1271.85  1300.90  1269.55  1298.28    1280.41  596984.0 -0.007061\n",
            "2023-01-10  1302.03  1302.50  1273.03  1278.97    1261.38  305284.0 -0.007061\n",
            "2023-01-11  1277.60  1279.10  1261.00  1262.75    1245.38  255590.0 -0.007061\n",
            "2023-01-12  1262.50  1265.95  1232.82  1236.05    1219.04  370686.0 -0.007061\n",
            "2023-01-13  1234.30  1236.60  1217.40  1233.68    1216.70  497964.0 -0.007061\n"
          ]
        },
        {
          "output_type": "stream",
          "name": "stderr",
          "text": [
            "<ipython-input-7-e11ca9fb7917>:18: UserWarning: Parsing dates in %d-%m-%Y format when dayfirst=False (the default) was specified. Pass `dayfirst=True` or specify a format to silence this warning.\n",
            "  sentiment_data['date'] = pd.to_datetime(sentiment_data['date'])\n",
            "<ipython-input-7-e11ca9fb7917>:32: FutureWarning: A value is trying to be set on a copy of a DataFrame or Series through chained assignment using an inplace method.\n",
            "The behavior will change in pandas 3.0. This inplace method will never work because the intermediate object on which we are setting values always behaves as a copy.\n",
            "\n",
            "For example, when doing 'df[col].method(value, inplace=True)', try using 'df.method({col: value}, inplace=True)' or df[col] = df[col].method(value) instead, to perform the operation inplace on the original object.\n",
            "\n",
            "\n",
            "  merged_data['ewma_3'].fillna(method='ffill', inplace=True)\n",
            "<ipython-input-7-e11ca9fb7917>:32: FutureWarning: Series.fillna with 'method' is deprecated and will raise in a future version. Use obj.ffill() or obj.bfill() instead.\n",
            "  merged_data['ewma_3'].fillna(method='ffill', inplace=True)\n",
            "<ipython-input-7-e11ca9fb7917>:34: FutureWarning: A value is trying to be set on a copy of a DataFrame or Series through chained assignment using an inplace method.\n",
            "The behavior will change in pandas 3.0. This inplace method will never work because the intermediate object on which we are setting values always behaves as a copy.\n",
            "\n",
            "For example, when doing 'df[col].method(value, inplace=True)', try using 'df.method({col: value}, inplace=True)' or df[col] = df[col].method(value) instead, to perform the operation inplace on the original object.\n",
            "\n",
            "\n",
            "  merged_data['ewma_3'].fillna(method='bfill', inplace=True)\n",
            "<ipython-input-7-e11ca9fb7917>:34: FutureWarning: Series.fillna with 'method' is deprecated and will raise in a future version. Use obj.ffill() or obj.bfill() instead.\n",
            "  merged_data['ewma_3'].fillna(method='bfill', inplace=True)\n"
          ]
        }
      ],
      "source": [
        "import pandas as pd\n",
        "import numpy as np\n",
        "# !pip install statsmodels\n",
        "import statsmodels.api as sm\n",
        "from statsmodels.tsa.statespace.sarimax import SARIMAX\n",
        "\n",
        "# Load stock price data\n",
        "stock_data = pd.read_csv('reliance_stock_data.csv')\n",
        "stock_data['Date'] = pd.to_datetime(stock_data['Date'], format='%Y-%m-%d')\n",
        "stock_data.set_index('Date', inplace=True)\n",
        "stock_data.sort_index(inplace=True)\n",
        "\n",
        "# Load sentiment data with error handling\n",
        "# Try reading while skipping malformed lines\n",
        "sentiment_data = pd.read_csv('new_articles_with_ewma.csv', on_bad_lines='skip')\n",
        "\n",
        "# Convert date column to datetime\n",
        "sentiment_data['date'] = pd.to_datetime(sentiment_data['date'])\n",
        "\n",
        "# SOLUTION FOR ISSUE #1:\n",
        "# Group by date and take the last EWMA-3 value for each date\n",
        "ewma_data = sentiment_data.groupby('date')['ewma_3'].last().reset_index()\n",
        "ewma_data.rename(columns={'date': 'Date'}, inplace=True)\n",
        "ewma_data.set_index('Date', inplace=True)\n",
        "ewma_data.sort_index(inplace=True)\n",
        "\n",
        "# SOLUTION FOR ISSUE #2:\n",
        "# Join with stock data and forward fill missing values\n",
        "merged_data = stock_data.join(ewma_data, how='left')\n",
        "\n",
        "# Forward fill missing EWMA values (uses last available EWMA)\n",
        "merged_data['ewma_3'].fillna(method='ffill', inplace=True)\n",
        "# For any missing values at the beginning, backward fill\n",
        "merged_data['ewma_3'].fillna(method='bfill', inplace=True)\n",
        "\n",
        "# Print the first few rows to verify the data\n",
        "print(\"First few rows of merged data:\")\n",
        "print(merged_data.head())"
      ]
    },
    {
      "cell_type": "code",
      "execution_count": 9,
      "metadata": {
        "colab": {
          "base_uri": "https://localhost:8080/"
        },
        "id": "1sbonDsZ2Uzf",
        "outputId": "ec8b368d-0af2-46d8-d23e-5a881ad0737a"
      },
      "outputs": [
        {
          "output_type": "stream",
          "name": "stdout",
          "text": [
            "Fitting SARIMAX model on full dataset for stock price forecasting...\n"
          ]
        },
        {
          "output_type": "stream",
          "name": "stderr",
          "text": [
            "/usr/local/lib/python3.11/dist-packages/statsmodels/tsa/base/tsa_model.py:473: ValueWarning: A date index has been provided, but it has no associated frequency information and so will be ignored when e.g. forecasting.\n",
            "  self._init_dates(dates, freq)\n",
            "/usr/local/lib/python3.11/dist-packages/statsmodels/tsa/base/tsa_model.py:473: ValueWarning: A date index has been provided, but it has no associated frequency information and so will be ignored when e.g. forecasting.\n",
            "  self._init_dates(dates, freq)\n",
            "/usr/local/lib/python3.11/dist-packages/statsmodels/base/model.py:607: ConvergenceWarning: Maximum Likelihood optimization failed to converge. Check mle_retvals\n",
            "  warnings.warn(\"Maximum Likelihood optimization failed to \"\n",
            "/usr/local/lib/python3.11/dist-packages/statsmodels/tsa/base/tsa_model.py:473: ValueWarning: A date index has been provided, but it has no associated frequency information and so will be ignored when e.g. forecasting.\n",
            "  self._init_dates(dates, freq)\n",
            "/usr/local/lib/python3.11/dist-packages/statsmodels/tsa/base/tsa_model.py:473: ValueWarning: A date index has been provided, but it has no associated frequency information and so will be ignored when e.g. forecasting.\n",
            "  self._init_dates(dates, freq)\n"
          ]
        },
        {
          "output_type": "stream",
          "name": "stdout",
          "text": [
            "Fitting SARIMA model for EWMA forecasting...\n",
            "Enter a future date for prediction (YYYY-MM-DD): 2025-04-13\n",
            "Predicting stock price for 2025-04-13...\n",
            "552   -0.005265\n",
            "553   -0.020950\n",
            "554   -0.018335\n",
            "555   -0.026509\n",
            "556   -0.029074\n",
            "557   -0.016263\n",
            "Name: predicted_mean, dtype: float64\n",
            "              ewma_3\n",
            "2025-04-08 -0.005265\n",
            "2025-04-09 -0.020950\n",
            "2025-04-10 -0.018335\n",
            "2025-04-11 -0.026509\n",
            "2025-04-12 -0.029074\n",
            "2025-04-13 -0.016263\n",
            "552    1166.034599\n",
            "553    1168.589236\n",
            "554    1171.720668\n",
            "555    1173.323469\n",
            "556    1175.334988\n",
            "557    1176.640972\n",
            "Name: predicted_mean, dtype: float64\n",
            "            Predicted_Close  Predicted_EWMA\n",
            "2025-04-08      1166.034599       -0.005265\n",
            "2025-04-09      1168.589236       -0.020950\n",
            "2025-04-10      1171.720668       -0.018335\n",
            "2025-04-11      1173.323469       -0.026509\n",
            "2025-04-12      1175.334988       -0.029074\n",
            "2025-04-13      1176.640972       -0.016263\n",
            "\n",
            "===== PREDICTION RESULTS =====\n",
            "Date: 2025-04-13\n",
            "Predicted Stock Price: ₹1176.64\n",
            "Predicted EWMA Sentiment: -0.0163\n",
            "=============================\n"
          ]
        },
        {
          "output_type": "stream",
          "name": "stderr",
          "text": [
            "/usr/local/lib/python3.11/dist-packages/statsmodels/tsa/base/tsa_model.py:837: ValueWarning: No supported index is available. Prediction results will be given with an integer index beginning at `start`.\n",
            "  return get_prediction_index(\n",
            "/usr/local/lib/python3.11/dist-packages/statsmodels/tsa/base/tsa_model.py:837: FutureWarning: No supported index is available. In the next version, calling this method in a model without a supported index will result in an exception.\n",
            "  return get_prediction_index(\n",
            "/usr/local/lib/python3.11/dist-packages/statsmodels/tsa/base/tsa_model.py:837: ValueWarning: No supported index is available. Prediction results will be given with an integer index beginning at `start`.\n",
            "  return get_prediction_index(\n",
            "/usr/local/lib/python3.11/dist-packages/statsmodels/tsa/base/tsa_model.py:837: FutureWarning: No supported index is available. In the next version, calling this method in a model without a supported index will result in an exception.\n",
            "  return get_prediction_index(\n"
          ]
        }
      ],
      "source": [
        "import pandas as pd\n",
        "import numpy as np\n",
        "import matplotlib.pyplot as plt\n",
        "from statsmodels.tsa.statespace.sarimax import SARIMAX\n",
        "from datetime import datetime, timedelta\n",
        "import pickle\n",
        "import os\n",
        "\n",
        "\n",
        "def get_models(force_refit=False):\n",
        "    # File paths for saved models\n",
        "    stock_model_path = 'stock_model.pkl'\n",
        "    ewma_model_path = 'ewma_model.pkl'\n",
        "\n",
        "    # Check if models already exist and we don't want to force refit\n",
        "    if not force_refit and os.path.exists(stock_model_path) and os.path.exists(ewma_model_path):\n",
        "        print(\"Loading existing models...\")\n",
        "        with open(stock_model_path, 'rb') as f:\n",
        "            full_model_fit = pickle.load(f)\n",
        "        with open(ewma_model_path, 'rb') as f:\n",
        "            ewma_model_fit = pickle.load(f)\n",
        "    else:\n",
        "      # 1. Retrain the model on the full dataset\n",
        "      full_data = merged_data  # All data from Jan 2023 to Mar 2025\n",
        "      full_exog = full_data[['ewma_3']]\n",
        "\n",
        "      # Define SARIMA parameters\n",
        "      p, d, q = 4, 1, 4  # Non-seasonal parameters\n",
        "      P, D, Q, s = 0,0,0,12  # Seasonal parameters (monthly seasonality)\n",
        "\n",
        "      # Fit the model on the full dataset for stock price prediction\n",
        "      print(\"Fitting SARIMAX model on full dataset for stock price forecasting...\")\n",
        "      full_model = SARIMAX(full_data['Close'],\n",
        "                          exog=full_exog,\n",
        "                          order=(p, d, q),\n",
        "                          seasonal_order=(P, D, Q, s),\n",
        "                          enforce_stationarity=False,\n",
        "                          enforce_invertibility=False)\n",
        "      full_model_fit = full_model.fit(disp=False)\n",
        "\n",
        "      # Train a separate SARIMA model for EWMA prediction\n",
        "      print(\"Fitting SARIMA model for EWMA forecasting...\")\n",
        "      ewma_model = SARIMAX(full_data['ewma_3'],\n",
        "                          order=(1, 1, 1),  # Adjust these parameters as needed\n",
        "                          seasonal_order=(1, 1, 1, 7),  # Using weekly seasonality for sentiment\n",
        "                          enforce_stationarity=False,\n",
        "                          enforce_invertibility=False)\n",
        "      ewma_model_fit = ewma_model.fit(disp=False)\n",
        "\n",
        "      # Save models\n",
        "      with open(stock_model_path, 'wb') as f:\n",
        "          pickle.dump(full_model_fit, f)\n",
        "      with open(ewma_model_path, 'wb') as f:\n",
        "          pickle.dump(ewma_model_fit, f)\n",
        "    return full_model_fit, ewma_model_fit\n",
        "\n",
        "\n",
        "# Function to get user input for prediction date\n",
        "def get_prediction_date():\n",
        "    while True:\n",
        "        try:\n",
        "            date_str = input(\"Enter a future date for prediction (YYYY-MM-DD): \")\n",
        "            pred_date = datetime.strptime(date_str, \"%Y-%m-%d\").date()\n",
        "\n",
        "            # Check if date is after the last date in our dataset\n",
        "            last_date = merged_data.index[-1].date()\n",
        "            if pred_date <= last_date:\n",
        "                print(f\"Please enter a date after {last_date}\")\n",
        "                continue\n",
        "\n",
        "            return pred_date\n",
        "        except ValueError:\n",
        "            print(\"Invalid date format. Please use YYYY-MM-DD format.\")\n",
        "\n",
        "# Function to predict stock price for a specified date\n",
        "def predict_stock_price(target_date,full_model_fit,ewma_model_fit):\n",
        "    # Convert to datetime object if it's not already\n",
        "    if isinstance(target_date, str):\n",
        "        target_date = datetime.strptime(target_date, \"%Y-%m-%d\")\n",
        "\n",
        "    # Calculate how many days ahead we need to predict\n",
        "    last_date = merged_data.index[-1].to_pydatetime()\n",
        "    days_ahead = (target_date - last_date.date()).days\n",
        "\n",
        "    if days_ahead <= 0:\n",
        "        print(\"Target date is not in the future.\")\n",
        "        return None\n",
        "\n",
        "    # Create date range from last data point to target date\n",
        "    future_dates = pd.date_range(start=last_date + pd.Timedelta(days=1),\n",
        "                               end=target_date, freq='D')\n",
        "\n",
        "    # Predict future EWMA values using the EWMA model\n",
        "    ewma_forecast = ewma_model_fit.get_forecast(steps=len(future_dates))\n",
        "    predicted_ewma = ewma_forecast.predicted_mean\n",
        "    print(predicted_ewma)\n",
        "\n",
        "    # Reindex predicted_ewma to match future_dates\n",
        "    predicted_ewma.index = future_dates\n",
        "\n",
        "    # Create DataFrame for future EWMA values\n",
        "    future_ewma = pd.DataFrame({'ewma_3': predicted_ewma}, index=future_dates)\n",
        "\n",
        "    print(future_ewma )\n",
        "    # Generate stock price predictions using the predicted EWMA values\n",
        "    future_predictions = full_model_fit.get_forecast(steps=len(future_dates), exog=future_ewma)\n",
        "    forecast_mean = future_predictions.predicted_mean\n",
        "\n",
        "    print(forecast_mean)\n",
        "\n",
        "    forecast_mean.index = future_dates\n",
        "\n",
        "    # Create a DataFrame with just the predictions we need\n",
        "    forecast_df = pd.DataFrame({\n",
        "        'Predicted_Close': forecast_mean,\n",
        "        'Predicted_EWMA': predicted_ewma\n",
        "    }, index=future_dates)\n",
        "\n",
        "    print(forecast_df)\n",
        "\n",
        "    return forecast_df\n",
        "\n",
        "# Main execution flow\n",
        "def main():\n",
        "    # Load or fit models (set force_refit=True to refit models)\n",
        "    full_model_fit, ewma_model_fit = get_models(force_refit=False)\n",
        "\n",
        "    # Get user input\n",
        "    target_date = get_prediction_date()\n",
        "\n",
        "    # Make prediction\n",
        "    print(f\"Predicting stock price for {target_date}...\")\n",
        "    forecast_df = predict_stock_price(target_date,full_model_fit, ewma_model_fit)\n",
        "\n",
        "    if forecast_df is not None:\n",
        "        # Print prediction for target date only\n",
        "        target_prediction = forecast_df.loc[target_date] if target_date in forecast_df.index else forecast_df.iloc[-1]\n",
        "\n",
        "        print(\"\\n===== PREDICTION RESULTS =====\")\n",
        "        print(f\"Date: {target_date}\")\n",
        "        print(f\"Predicted Stock Price: ₹{target_prediction['Predicted_Close']:.2f}\")\n",
        "        print(f\"Predicted EWMA Sentiment: {target_prediction['Predicted_EWMA']:.4f}\")\n",
        "        print(\"=============================\")\n",
        "\n",
        "# Run the program\n",
        "if __name__ == \"__main__\":\n",
        "    main()"
      ]
    },
    {
      "cell_type": "code",
      "execution_count": null,
      "metadata": {
        "id": "7382hDOZ2W29"
      },
      "outputs": [],
      "source": []
    }
  ],
  "metadata": {
    "colab": {
      "provenance": []
    },
    "kernelspec": {
      "display_name": "Python 3",
      "name": "python3"
    },
    "language_info": {
      "name": "python"
    }
  },
  "nbformat": 4,
  "nbformat_minor": 0
}