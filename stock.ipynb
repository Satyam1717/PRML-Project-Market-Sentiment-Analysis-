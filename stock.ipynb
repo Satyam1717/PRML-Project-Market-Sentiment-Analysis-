{
 "cells": [
  {
   "cell_type": "code",
   "execution_count": 6,
   "id": "4a63eccf",
   "metadata": {},
   "outputs": [
    {
     "name": "stdout",
     "output_type": "stream",
     "text": [
      "CSV saved as reliance_stock_data.csv\n",
      "Number of rows in the data: 552\n"
     ]
    },
    {
     "name": "stderr",
     "output_type": "stream",
     "text": [
      "C:\\Users\\sagar\\AppData\\Local\\Temp\\ipykernel_12648\\113909241.py:18: FutureWarning: Passing literal html to 'read_html' is deprecated and will be removed in a future version. To read from a literal string, wrap it in a 'StringIO' object.\n",
      "  tables = pd.read_html(response.text)\n",
      "C:\\Users\\sagar\\AppData\\Local\\Temp\\ipykernel_12648\\113909241.py:33: SettingWithCopyWarning: \n",
      "A value is trying to be set on a copy of a slice from a DataFrame.\n",
      "Try using .loc[row_indexer,col_indexer] = value instead\n",
      "\n",
      "See the caveats in the documentation: https://pandas.pydata.org/pandas-docs/stable/user_guide/indexing.html#returning-a-view-versus-a-copy\n",
      "  df['Date'] = pd.to_datetime(df['Date'])\n",
      "C:\\Users\\sagar\\AppData\\Local\\Temp\\ipykernel_12648\\113909241.py:35: SettingWithCopyWarning: \n",
      "A value is trying to be set on a copy of a slice from a DataFrame.\n",
      "Try using .loc[row_indexer,col_indexer] = value instead\n",
      "\n",
      "See the caveats in the documentation: https://pandas.pydata.org/pandas-docs/stable/user_guide/indexing.html#returning-a-view-versus-a-copy\n",
      "  df[numeric_cols] = df[numeric_cols].apply(pd.to_numeric, errors='coerce')\n",
      "C:\\Users\\sagar\\AppData\\Local\\Temp\\ipykernel_12648\\113909241.py:36: SettingWithCopyWarning: \n",
      "A value is trying to be set on a copy of a slice from a DataFrame.\n",
      "Try using .loc[row_indexer,col_indexer] = value instead\n",
      "\n",
      "See the caveats in the documentation: https://pandas.pydata.org/pandas-docs/stable/user_guide/indexing.html#returning-a-view-versus-a-copy\n",
      "  df['Volume'] = pd.to_numeric(df['Volume'], errors='coerce').astype('Int64')\n"
     ]
    }
   ],
   "source": [
    "import pandas as pd\n",
    "import requests\n",
    "\n",
    "# URL with timestamp range: Jan 7, 2023 – Present (UNIX timestamps)\n",
    "url = \"https://finance.yahoo.com/quote/RELIANCE.BO/history?period1=1673049600&period2=1744065736\"\n",
    "\n",
    "# Add headers to mimic a browser request\n",
    "headers = {\n",
    "\t'User-Agent': 'Mozilla/5.0 (Windows NT 10.0; Win64; x64) AppleWebKit/537.36 (KHTML, like Gecko) Chrome/91.0.4472.124 Safari/537.36'\n",
    "}\n",
    "\n",
    "try:\n",
    "\t# Get the page content with headers\n",
    "\tresponse = requests.get(url, headers=headers)\n",
    "\tresponse.raise_for_status()  # Raise exception for HTTP errors\n",
    "\t\n",
    "\t# Load all tables from the page\n",
    "\ttables = pd.read_html(response.text)\n",
    "\t\n",
    "\t# Usually the first table is the one we want\n",
    "\tdf = tables[0]\n",
    "\t\n",
    "\t# Find close column name (it might vary between 'Close*' or something else)\n",
    "\tclose_col = [col for col in df.columns if 'Close' in col and 'Adj' not in col][0]\n",
    "\t\n",
    "\t# Remove rows like 'Dividend' or empty rows\n",
    "\tdf = df[~df[close_col].astype(str).str.contains('Dividend', na=False)]\n",
    "\t\n",
    "\t# Rename columns to simpler names\n",
    "\tdf.columns = ['Date', 'Open', 'High', 'Low', 'Close', 'Adj_Close', 'Volume']\n",
    "\t\n",
    "\t# Convert data types\n",
    "\tdf['Date'] = pd.to_datetime(df['Date'])\n",
    "\tnumeric_cols = ['Open', 'High', 'Low', 'Close', 'Adj_Close']\n",
    "\tdf[numeric_cols] = df[numeric_cols].apply(pd.to_numeric, errors='coerce')\n",
    "\tdf['Volume'] = pd.to_numeric(df['Volume'], errors='coerce').astype('Int64')\n",
    "\t\n",
    "\t# Save to CSV\n",
    "\tdf.to_csv(\"reliance_stock_data.csv\", index=False)\n",
    "\t\n",
    "\tprint(\"CSV saved as reliance_stock_data.csv\")\n",
    "\tprint(f\"Number of rows in the data: {len(df)}\")\n",
    "except Exception as e:\n",
    "\tprint(f\"An error occurred: {e}\")\n"
   ]
  },
  {
   "cell_type": "code",
   "execution_count": null,
   "id": "b1cc871b",
   "metadata": {},
   "outputs": [],
   "source": []
  }
 ],
 "metadata": {
  "kernelspec": {
   "display_name": "myenv",
   "language": "python",
   "name": "python3"
  },
  "language_info": {
   "codemirror_mode": {
    "name": "ipython",
    "version": 3
   },
   "file_extension": ".py",
   "mimetype": "text/x-python",
   "name": "python",
   "nbconvert_exporter": "python",
   "pygments_lexer": "ipython3",
   "version": "3.10.16"
  }
 },
 "nbformat": 4,
 "nbformat_minor": 5
}
