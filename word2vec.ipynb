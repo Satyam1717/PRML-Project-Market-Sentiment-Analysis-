{
 "cells": [
  {
   "cell_type": "code",
   "execution_count": null,
   "id": "a3a2f98b",
   "metadata": {
    "vscode": {
     "languageId": "plaintext"
    }
   },
   "outputs": [],
   "source": [
    "!pip install gensim\n",
    "!pip install -upgrade numpy\n",
    "\n",
    "import pandas as pd\n",
    "import numpy as np\n",
    "from gensim.models import Word2Vec\n",
    "from sklearn.model_selection import train_test_split\n",
    "from sklearn.metrics import mean_absolute_error\n",
    "import xgboost as xgb\n",
    "from collections import Counter\n",
    "import math\n",
    "\n",
    "# Load your preprocessed CSV file\n",
    "df = pd.read_csv('labelled_news_sentiment.csv')\n",
    "\n",
    "# Tokenize the processed text\n",
    "df['tokens'] = df['processed_text'].apply(lambda x: x.split())\n",
    "\n",
    "print(\"Sample tokens:\", df['tokens'].head())\n",
    "\n",
    "# Prepare the corpus: a list of token lists\n",
    "corpus = df['tokens'].tolist()\n",
    "\n",
    "# Train the Word2Vec model\n",
    "w2v_model = Word2Vec(sentences=corpus,\n",
    "                     vector_size=500,    # Dimension of the word vectors\n",
    "                     window=10,           # Context window size\n",
    "                     min_count=1,        # Minimum frequency for a word to be considered\n",
    "                     workers=10,          # Number of threads for training\n",
    "                     epochs=30)\n",
    "\n",
    "print(\"Word2Vec model trained.\")\n",
    "\n",
    "def document_vector(tokens, model):\n",
    "    # Filter tokens to include only those present in the model's vocabulary\n",
    "    valid_tokens = [token for token in tokens if token in model.wv]\n",
    "    if valid_tokens:\n",
    "        # Compute the mean of the word vectors\n",
    "        return np.mean(model.wv[valid_tokens], axis=0)\n",
    "    else:\n",
    "        # If no valid tokens, return a zero vector\n",
    "        return np.zeros(model.vector_size)\n",
    "\n",
    "# Generate document vectors\n",
    "doc_vectors = np.array([document_vector(tokens, w2v_model) for tokens in df['tokens']])\n",
    "\n",
    "\n",
    "print(\"Document vectors shape:\", doc_vectors.shape)\n",
    "\n",
    "X = doc_vectors\n",
    "y = df['news_sentiment'].values"
   ]
  }
 ],
 "metadata": {
  "language_info": {
   "name": "python"
  }
 },
 "nbformat": 4,
 "nbformat_minor": 5
}
